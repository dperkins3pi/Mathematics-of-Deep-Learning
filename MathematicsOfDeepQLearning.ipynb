{
  "cells": [
    {
      "cell_type": "markdown",
      "metadata": {
        "id": "W04_OPfMmMtP"
      },
      "source": [
        "[![Open In Colab](https://colab.research.google.com/assets/colab-badge.svg)](https://github.com/porterjenkins/byu-cs474/blob/master/lab11_rl.ipynb)"
      ]
    },
    {
      "cell_type": "markdown",
      "metadata": {
        "id": "sl7hEuB3J4k3"
      },
      "source": [
        "# Deep Reinforcement Learning\n",
        "\n",
        "## Objective\n",
        "\n",
        "- Build Deep RL algorithms on the Cart Pole Problem\n",
        "- Analyze the affects of various hyperparameters (like $\\epsilon$ in the $\\epsilon$-freedy algorithm).\n",
        "\n",
        "### Cartpole\n",
        "\n",
        "Cartpole is a simple environment to get your agent up and running. It has a continuous state space of 4 dimensions and a discrete action space of 2. The agent is given a reward of 1 for each timestep it remains standing. The agent should be able to reach close to 200 cumulative reward for an episode after a minute or two of training."
      ]
    },
    {
      "cell_type": "markdown",
      "metadata": {
        "id": "gVWokqnVab6O"
      },
      "source": [
        "# Starter Code"
      ]
    },
    {
      "cell_type": "markdown",
      "metadata": {
        "id": "WhaPOG6xt0yn"
      },
      "source": [
        "## Init"
      ]
    },
    {
      "cell_type": "code",
      "execution_count": null,
      "metadata": {
        "id": "EyykNyRM1Tf3",
        "colab": {
          "base_uri": "https://localhost:8080/"
        },
        "outputId": "b1a9324e-1356-466c-bd3f-ec7a7241358c"
      },
      "outputs": [
        {
          "output_type": "stream",
          "name": "stdout",
          "text": [
            "Requirement already satisfied: gymnasium in /usr/local/lib/python3.10/dist-packages (1.0.0)\n",
            "Requirement already satisfied: numpy>=1.21.0 in /usr/local/lib/python3.10/dist-packages (from gymnasium) (1.26.4)\n",
            "Requirement already satisfied: cloudpickle>=1.2.0 in /usr/local/lib/python3.10/dist-packages (from gymnasium) (3.1.0)\n",
            "Requirement already satisfied: typing-extensions>=4.3.0 in /usr/local/lib/python3.10/dist-packages (from gymnasium) (4.12.2)\n",
            "Requirement already satisfied: farama-notifications>=0.0.1 in /usr/local/lib/python3.10/dist-packages (from gymnasium) (0.0.4)\n",
            "Requirement already satisfied: torch in /usr/local/lib/python3.10/dist-packages (2.5.1+cu121)\n",
            "Requirement already satisfied: filelock in /usr/local/lib/python3.10/dist-packages (from torch) (3.16.1)\n",
            "Requirement already satisfied: typing-extensions>=4.8.0 in /usr/local/lib/python3.10/dist-packages (from torch) (4.12.2)\n",
            "Requirement already satisfied: networkx in /usr/local/lib/python3.10/dist-packages (from torch) (3.4.2)\n",
            "Requirement already satisfied: jinja2 in /usr/local/lib/python3.10/dist-packages (from torch) (3.1.4)\n",
            "Requirement already satisfied: fsspec in /usr/local/lib/python3.10/dist-packages (from torch) (2024.10.0)\n",
            "Requirement already satisfied: sympy==1.13.1 in /usr/local/lib/python3.10/dist-packages (from torch) (1.13.1)\n",
            "Requirement already satisfied: mpmath<1.4,>=1.1.0 in /usr/local/lib/python3.10/dist-packages (from sympy==1.13.1->torch) (1.3.0)\n",
            "Requirement already satisfied: MarkupSafe>=2.0 in /usr/local/lib/python3.10/dist-packages (from jinja2->torch) (3.0.2)\n",
            "Requirement already satisfied: pygame in /usr/local/lib/python3.10/dist-packages (2.6.1)\n",
            "Requirement already satisfied: moviepy==1.0.3 in /usr/local/lib/python3.10/dist-packages (1.0.3)\n",
            "Requirement already satisfied: decorator<5.0,>=4.0.2 in /usr/local/lib/python3.10/dist-packages (from moviepy==1.0.3) (4.4.2)\n",
            "Requirement already satisfied: imageio<3.0,>=2.5 in /usr/local/lib/python3.10/dist-packages (from moviepy==1.0.3) (2.36.1)\n",
            "Requirement already satisfied: imageio_ffmpeg>=0.2.0 in /usr/local/lib/python3.10/dist-packages (from moviepy==1.0.3) (0.5.1)\n",
            "Requirement already satisfied: tqdm<5.0,>=4.11.2 in /usr/local/lib/python3.10/dist-packages (from moviepy==1.0.3) (4.66.6)\n",
            "Requirement already satisfied: numpy>=1.17.3 in /usr/local/lib/python3.10/dist-packages (from moviepy==1.0.3) (1.26.4)\n",
            "Requirement already satisfied: requests<3.0,>=2.8.1 in /usr/local/lib/python3.10/dist-packages (from moviepy==1.0.3) (2.32.3)\n",
            "Requirement already satisfied: proglog<=1.0.0 in /usr/local/lib/python3.10/dist-packages (from moviepy==1.0.3) (0.1.10)\n",
            "Requirement already satisfied: pillow>=8.3.2 in /usr/local/lib/python3.10/dist-packages (from imageio<3.0,>=2.5->moviepy==1.0.3) (11.0.0)\n",
            "Requirement already satisfied: setuptools in /usr/local/lib/python3.10/dist-packages (from imageio_ffmpeg>=0.2.0->moviepy==1.0.3) (75.1.0)\n",
            "Requirement already satisfied: charset-normalizer<4,>=2 in /usr/local/lib/python3.10/dist-packages (from requests<3.0,>=2.8.1->moviepy==1.0.3) (3.4.0)\n",
            "Requirement already satisfied: idna<4,>=2.5 in /usr/local/lib/python3.10/dist-packages (from requests<3.0,>=2.8.1->moviepy==1.0.3) (3.10)\n",
            "Requirement already satisfied: urllib3<3,>=1.21.1 in /usr/local/lib/python3.10/dist-packages (from requests<3.0,>=2.8.1->moviepy==1.0.3) (2.2.3)\n",
            "Requirement already satisfied: certifi>=2017.4.17 in /usr/local/lib/python3.10/dist-packages (from requests<3.0,>=2.8.1->moviepy==1.0.3) (2024.8.30)\n",
            "Requirement already satisfied: imageio_ffmpeg in /usr/local/lib/python3.10/dist-packages (0.5.1)\n",
            "Requirement already satisfied: setuptools in /usr/local/lib/python3.10/dist-packages (from imageio_ffmpeg) (75.1.0)\n",
            "Requirement already satisfied: pyvirtualdisplay in /usr/local/lib/python3.10/dist-packages (3.0)\n",
            "Reading package lists... Done\n",
            "Building dependency tree... Done\n",
            "Reading state information... Done\n",
            "python3-opengl is already the newest version (3.1.5+dfsg-1).\n",
            "ffmpeg is already the newest version (7:4.4.2-0ubuntu0.22.04.1).\n",
            "xvfb is already the newest version (2:21.1.4-2ubuntu1.7~22.04.12).\n",
            "0 upgraded, 0 newly installed, 0 to remove and 49 not upgraded.\n"
          ]
        }
      ],
      "source": [
        "! pip3 install gymnasium\n",
        "! pip3 install torch\n",
        "! pip install pygame\n",
        "! pip install moviepy==1.0.3\n",
        "! pip install imageio_ffmpeg\n",
        "! pip install pyvirtualdisplay\n",
        "! apt-get install -y xvfb python3-opengl ffmpeg"
      ]
    },
    {
      "cell_type": "code",
      "execution_count": null,
      "metadata": {
        "id": "Rim8iocC1Vva"
      },
      "outputs": [],
      "source": [
        "from itertools import chain\n",
        "from tqdm import tqdm\n",
        "from torch.utils.data import Dataset, DataLoader\n",
        "from gymnasium import logger as gymlogger\n",
        "from gymnasium.wrappers import RecordVideo\n",
        "from IPython import display\n",
        "from numpy.typing import NDArray\n",
        "from typing import Dict, Tuple\n",
        "gymlogger.min_level = 40 # Error only\n",
        "\n",
        "import gymnasium as gym\n",
        "import torch\n",
        "import torch.nn as nn\n",
        "import torch.nn.functional as F\n",
        "import matplotlib.pyplot as plt\n",
        "import random\n",
        "import numpy as np\n",
        "import glob\n",
        "import io\n",
        "import base64\n",
        "from IPython.display import HTML\n",
        "from IPython import display as ipythondisplay\n",
        "\n",
        "# if GPU is to be used; MPS is for MAC\n",
        "device = torch.device(\n",
        "    \"cuda:0\" if torch.cuda.is_available() else\n",
        "    \"mps\" if torch.backends.mps.is_available() else\n",
        "    \"cpu\"\n",
        ")\n"
      ]
    },
    {
      "cell_type": "code",
      "execution_count": null,
      "metadata": {
        "id": "l1f8lZp19Lwj",
        "colab": {
          "base_uri": "https://localhost:8080/"
        },
        "outputId": "9665177e-3bce-4dda-bcc3-b1575f5041c6"
      },
      "outputs": [
        {
          "output_type": "execute_result",
          "data": {
            "text/plain": [
              "<pyvirtualdisplay.display.Display at 0x7e918798a0e0>"
            ]
          },
          "metadata": {},
          "execution_count": 12
        }
      ],
      "source": [
        "from pyvirtualdisplay import Display\n",
        "display = Display(visible=0, size=(1400,900))\n",
        "display.start()"
      ]
    },
    {
      "cell_type": "code",
      "execution_count": null,
      "metadata": {
        "id": "_TI_5c0l9Ojv"
      },
      "outputs": [],
      "source": [
        "def show_video():\n",
        "  mp4list = glob.glob('video/*.mp4')\n",
        "  if len(mp4list) > 0:\n",
        "    mp4 = mp4list[0]\n",
        "    video = io.open(mp4, 'r+b').read()\n",
        "    encoded = base64.b64encode(video)\n",
        "    ipythondisplay.display(HTML(data='''<video alt=\"test\" autoplay\n",
        "                loop controls style=\"height: 400px;\">\n",
        "                <source src=\"data:video/mp4;base64,{0}\" type=\"video/mp4\" />\n",
        "             </video>'''.format(encoded.decode('ascii'))))\n",
        "  else:\n",
        "    print(\"Could not find video\")\n",
        "\n",
        "def wrap_env(env):\n",
        "  env = RecordVideo(env, './video')\n",
        "  return env"
      ]
    },
    {
      "cell_type": "markdown",
      "metadata": {
        "id": "mV282uYJ2aSw"
      },
      "source": [
        "## DQN"
      ]
    },
    {
      "cell_type": "markdown",
      "metadata": {
        "id": "Qi_aDdTg2btp"
      },
      "source": [
        "Deep Q-Network (https://www.cs.toronto.edu/~vmnih/docs/dqn.pdf) is a Q-learning algorithm that learns values for state-action pairs.\n",
        "\n",
        "Actions are sampled according to an $\\epsilon-greedy$ policy to help with exploration of the state space. Every time an action is sampled, the agent chooses a random action with $\\epsilon$ probability. Otherwise, the agent selects the action with the highest Q-value for a state. $\\epsilon$ decays over time according to $\\epsilon \\gets \\epsilon * epsilon\\_decay$.\n",
        "\n",
        "Tuples of state, action, reward, next_state, and terminal $(s,a,r,s',d)$ are collected during training. Every $learn\\_frequency$ steps $sample\\_size$ tuples are sampled and made into 5 tensors tensors of states, actions, rewarads, next_states, and terminals.\n",
        "\n",
        "The loss for a batch of size N is given below.\n",
        "\n",
        "$Loss=\\frac{1}{N}\\sum \\bigg(Q(s,a) - (r + \\gamma \\underset{a'\\sim A}{max} \\hat{Q}(s',a')(1-d))\\bigg)^2 $\n",
        "\n",
        "Loss is calculated and used to update the Q-Network. The target network $\\hat{Q}$ begins as a copy of the Q network but is not updated by the optimizer. Every $target\\_update$ steps, the target network is updated with the parameters of the Q-Network. This process is a type of bootstrapping.\n",
        "\n",
        "\n"
      ]
    },
    {
      "cell_type": "code",
      "execution_count": null,
      "metadata": {
        "id": "_mBUvXkT2dHy"
      },
      "outputs": [],
      "source": [
        "from os import stat\n",
        "def get_action_dqn(network, state, epsilon):\n",
        "  \"\"\"Select action according to e-greedy policy and decay epsilon\n",
        "\n",
        "    Args:\n",
        "        network (QNetwork): Q-Network\n",
        "        state (np-array): current state, size (state_size)\n",
        "        epsilon (float): probability of choosing a random action\n",
        "\n",
        "    Returns:\n",
        "        action (int): chosen action [0, action_size)\n",
        "        epsilon (float): decayed epsilon\n",
        "  \"\"\"\n",
        "  if random.random() < epsilon:  # With p=epsilon, take a random action\n",
        "      action = random.randint(0, 1)\n",
        "      return action\n",
        "  else:  # With p=1-epsilon, take the action with the largest q-value\n",
        "      state = torch.from_numpy(state).float().unsqueeze(0).to(device)\n",
        "      q_values = network(state)\n",
        "      action = torch.argmax(q_values).item()\n",
        "      return action\n",
        "\n",
        "\n",
        "def prepare_batch(memory, batch_size):\n",
        "  \"\"\"Randomly sample batch from memory\n",
        "     Prepare cuda tensors\n",
        "\n",
        "    Args:\n",
        "        memory (list): state, action, next_state, reward, done tuples\n",
        "        batch_size (int): amount of memory to sample into a batch\n",
        "\n",
        "    Returns:\n",
        "        state (tensor): float cuda tensor of size (batch_size x state_size)\n",
        "        action (tensor): long tensor of size (batch_size)\n",
        "        next_state (tensor): float cuda tensor of size (batch_size x state_size)\n",
        "        reward (tensor): float cuda tensor of size (batch_size)\n",
        "        done (tensor): float cuda tensor of size (batch_size)\n",
        "  \"\"\"\n",
        "  batch = random.sample(memory, batch_size)  # Randomly sample batch from memory\n",
        "  state, action, next_state, reward, done = zip(*batch)  # Unpack batch\n",
        "  # Convert to tensors of correct types and return\n",
        "  state = torch.from_numpy(np.array(state)).float().to(device)\n",
        "  action = torch.from_numpy(np.array(action)).long().to(device)\n",
        "  next_state = torch.from_numpy(np.array(next_state)).float().to(device)\n",
        "  reward = torch.from_numpy(np.array(reward)).float().to(device)\n",
        "  done = torch.from_numpy(np.array(done)).float().to(device)\n",
        "  return state, action, next_state, reward, done\n",
        "\n",
        "\n",
        "def learn_dqn(batch, optim, q_network, target_network, gamma, global_step, target_update):\n",
        "  \"\"\"Update Q-Network according to DQN Loss function\n",
        "     Update Target Network every target_update global steps\n",
        "\n",
        "    Args:\n",
        "        batch (tuple): tuple of state, action, next_state, reward, and done tensors\n",
        "        optim (Adam): Q-Network optimizer\n",
        "        q_network (QNetwork): Q-Network\n",
        "        target_network (QNetwork): Target Q-Network\n",
        "        gamma (float): discount factor\n",
        "        global_step (int): total steps taken in environment\n",
        "        target_update (int): frequency of target network update\n",
        "  \"\"\"\n",
        "  state, action, next_state, reward, done = batch\n",
        "\n",
        "  q_values = q_network(state)  # Get the q values for the current state\n",
        "  q_value = torch.gather(q_values, 1, action.unsqueeze(1)).squeeze(1)  # Get the q_value for the action\n",
        "\n",
        "  next_q_values = target_network(next_state).detach()   # Get the q values for the next state\n",
        "  next_q_value = torch.max(next_q_values, 1)[0]  # Get the largest q value of next state\n",
        "\n",
        "  expected_q_value = reward + gamma*next_q_value*(1 - done)   # The target Q-value (via Bellman)\n",
        "  loss = torch.mean(torch.pow(q_value - expected_q_value, 2))   # Calculate the loss\n",
        "\n",
        "  # Gradient descent step\n",
        "  optim.zero_grad()\n",
        "  loss.backward()\n",
        "  optim.step()\n",
        "\n",
        "  # Update target network every target_update global steps\n",
        "  if global_step % target_update == 0:\n",
        "      target_network.load_state_dict(q_network.state_dict())"
      ]
    },
    {
      "cell_type": "markdown",
      "metadata": {
        "id": "vGQgiY0WvImB"
      },
      "source": [
        "### Modules"
      ]
    },
    {
      "cell_type": "code",
      "execution_count": null,
      "metadata": {
        "id": "1vMhl-oevIBo"
      },
      "outputs": [],
      "source": [
        "# Q-Value Network\n",
        "class QNetwork(nn.Module):\n",
        "  def __init__(self, state_size, action_size):\n",
        "    super().__init__()\n",
        "    hidden_size = 8\n",
        "\n",
        "    self.net = nn.Sequential(nn.Linear(state_size, hidden_size),\n",
        "                             nn.ReLU(),\n",
        "                             nn.Linear(hidden_size, hidden_size),\n",
        "                             nn.ReLU(),\n",
        "                             nn.Linear(hidden_size, hidden_size),\n",
        "                             nn.ReLU(),\n",
        "                             nn.Linear(hidden_size, action_size))\n",
        "\n",
        "  def forward(self, x):\n",
        "    \"\"\"Estimate q-values given state\n",
        "\n",
        "      Args:\n",
        "          state (tensor): current state, size (batch x state_size)\n",
        "\n",
        "      Returns:\n",
        "          q-values (tensor): estimated q-values, size (batch x action_size)\n",
        "    \"\"\"\n",
        "    return self.net(x)"
      ]
    },
    {
      "cell_type": "markdown",
      "metadata": {
        "id": "yCafVI552dgg"
      },
      "source": [
        "### Main"
      ]
    },
    {
      "cell_type": "code",
      "execution_count": null,
      "metadata": {
        "id": "8Sy_r9Wr2eg8"
      },
      "outputs": [],
      "source": [
        "def dqn_main(lr=1e-3, epochs=500, start_training=1000, gamma=0.99,\n",
        "             batch_size=32, epsilon=1, epsilon_decay=lambda t, T: 0.9999**t,\n",
        "             target_update=1000, learn_frequency=2, print_epsilon=False,\n",
        "             num_steps=500):\n",
        "\n",
        "  # Init environment\n",
        "  state_size = 4\n",
        "  action_size = 2\n",
        "  env = gym.make('CartPole-v1', render_mode=\"rgb_array\")\n",
        "\n",
        "  # Init networks\n",
        "  q_network = QNetwork(state_size, action_size).to(device)\n",
        "  target_network = QNetwork(state_size, action_size).to(device)\n",
        "  target_network.load_state_dict(q_network.state_dict())\n",
        "\n",
        "  # Init optimizer\n",
        "  optim = torch.optim.Adam(q_network.parameters(), lr=lr)\n",
        "  # Init replay buffer\n",
        "  memory = []\n",
        "\n",
        "  # Begin main loop\n",
        "  results_dqn = []\n",
        "  global_step = 0\n",
        "  loop = tqdm(total=epochs, position=0, leave=False)\n",
        "  t = 0\n",
        "  for epoch in range(epochs):\n",
        "    last_epoch = (epoch+1 == epochs)\n",
        "    # Record the last epoch, not the previous epochs\n",
        "    if last_epoch:\n",
        "      env = wrap_env(env)\n",
        "\n",
        "    # Reset environment\n",
        "    state, _ = env.reset()\n",
        "    done = False\n",
        "    cum_reward = 0  # Track cumulative reward per episode\n",
        "\n",
        "    # Begin episode\n",
        "    while not done and cum_reward < num_steps:  # End after 500 steps\n",
        "      # Select e-greedy action\n",
        "      epsilon = epsilon_decay(t)\n",
        "      if print_epsilon: print(epsilon)\n",
        "      t += 1\n",
        "      action = get_action_dqn(q_network, state, epsilon)\n",
        "\n",
        "      # Take step\n",
        "      next_state, reward, terminated, truncated, _ = env.step(action)\n",
        "      done = terminated or truncated\n",
        "      # env.render()\n",
        "\n",
        "      # Store step in replay buffer\n",
        "      memory.append((state, action, next_state, reward, done))\n",
        "\n",
        "      cum_reward += reward\n",
        "      global_step += 1  # Increment total steps\n",
        "      state = next_state  # Set current state\n",
        "\n",
        "      # If time to train\n",
        "      if global_step > start_training and global_step % learn_frequency == 0:\n",
        "\n",
        "        # Sample batch\n",
        "        batch = prepare_batch(memory, batch_size)\n",
        "\n",
        "        # Train\n",
        "        learn_dqn(batch, optim, q_network, target_network, gamma, global_step, target_update)\n",
        "    env.close()\n",
        "    # Print results at end of episode\n",
        "    results_dqn.append(cum_reward)\n",
        "    loop.update(1)\n",
        "    loop.set_description('Episodes: {} Reward: {}'.format(epoch, cum_reward))\n",
        "\n",
        "  return results_dqn\n",
        "\n",
        "#show_video()"
      ]
    },
    {
      "cell_type": "code",
      "source": [
        "results_dqn = []\n",
        "decay_factors = [1, 0.99999, 0.9999, 0.999, 0.99, 0.9, 0.5, 0.1, 0]\n",
        "\n",
        "for decay in decay_factors:\n",
        "  print(\"decay factor:\", decay)\n",
        "  def exponential_decay(t): return decay**t\n",
        "  result = dqn_main(epsilon_decay=exponential_decay)\n",
        "  results_dqn.append(result)\n",
        "  print(\"reward\", max(result))\n",
        "  print()"
      ],
      "metadata": {
        "colab": {
          "base_uri": "https://localhost:8080/"
        },
        "id": "US8rU2g_wHuO",
        "outputId": "7d264811-0924-4564-91a6-1d8d922d7bd9"
      },
      "execution_count": null,
      "outputs": [
        {
          "output_type": "stream",
          "name": "stdout",
          "text": [
            "decay factor: 1\n"
          ]
        },
        {
          "output_type": "stream",
          "name": "stderr",
          "text": []
        },
        {
          "output_type": "stream",
          "name": "stdout",
          "text": [
            "reward 70.0\n",
            "\n",
            "decay factor: 0.99999\n"
          ]
        },
        {
          "output_type": "stream",
          "name": "stderr",
          "text": []
        },
        {
          "output_type": "stream",
          "name": "stdout",
          "text": [
            "reward 102.0\n",
            "\n",
            "decay factor: 0.9999\n"
          ]
        },
        {
          "output_type": "stream",
          "name": "stderr",
          "text": []
        },
        {
          "output_type": "stream",
          "name": "stdout",
          "text": [
            "reward 500.0\n",
            "\n",
            "decay factor: 0.999\n"
          ]
        },
        {
          "output_type": "stream",
          "name": "stderr",
          "text": []
        },
        {
          "output_type": "stream",
          "name": "stdout",
          "text": [
            "reward 136.0\n",
            "\n",
            "decay factor: 0.99\n"
          ]
        },
        {
          "output_type": "stream",
          "name": "stderr",
          "text": []
        },
        {
          "output_type": "stream",
          "name": "stdout",
          "text": [
            "reward 33.0\n",
            "\n",
            "decay factor: 0.9\n"
          ]
        },
        {
          "output_type": "stream",
          "name": "stderr",
          "text": []
        },
        {
          "output_type": "stream",
          "name": "stdout",
          "text": [
            "reward 11.0\n",
            "\n",
            "decay factor: 0.5\n"
          ]
        },
        {
          "output_type": "stream",
          "name": "stderr",
          "text": []
        },
        {
          "output_type": "stream",
          "name": "stdout",
          "text": [
            "reward 11.0\n",
            "\n",
            "decay factor: 0.1\n"
          ]
        },
        {
          "output_type": "stream",
          "name": "stderr",
          "text": []
        },
        {
          "output_type": "stream",
          "name": "stdout",
          "text": [
            "reward 11.0\n",
            "\n",
            "decay factor: 0\n"
          ]
        },
        {
          "output_type": "stream",
          "name": "stderr",
          "text": [
            "                                                                            "
          ]
        },
        {
          "output_type": "stream",
          "name": "stdout",
          "text": [
            "reward 11.0\n",
            "\n"
          ]
        },
        {
          "output_type": "stream",
          "name": "stderr",
          "text": [
            "\r"
          ]
        }
      ]
    },
    {
      "cell_type": "code",
      "execution_count": null,
      "metadata": {
        "id": "ZWYwytCDC3aw",
        "colab": {
          "base_uri": "https://localhost:8080/",
          "height": 493
        },
        "outputId": "0a00cc46-5773-4a85-fbb7-d96800bf8b1c"
      },
      "outputs": [
        {
          "output_type": "display_data",
          "data": {
            "text/plain": [
              "<Figure size 640x480 with 1 Axes>"
            ],
            "image/png": "[encoded data removed]"
          },
          "metadata": {}
        },
        {
          "output_type": "stream",
          "name": "stdout",
          "text": [
            "[70.0, 102.0, 500.0, 136.0]\n"
          ]
        }
      ],
      "source": [
        "max_rewards = []\n",
        "for i in range(len(results_dqn)):\n",
        "  if i in [4, 5, 6, 7, 8]: continue\n",
        "  plt.plot(results_dqn[i], label=fr\"$\\beta={decay_factors[i]}$, reward={max(results_dqn[i])}\")\n",
        "  max_rewards.append(max(results_dqn[i]))\n",
        "\n",
        "plt.title(r\"Epsilon Decay With $\\epsilon=\\beta^t$\")\n",
        "plt.xlabel(\"Episode\")\n",
        "plt.ylabel(\"Cumulative Reward\")\n",
        "plt.legend()\n",
        "plt.show()\n",
        "\n",
        "print(max_rewards)"
      ]
    },
    {
      "cell_type": "code",
      "source": [
        "results_linear_decay = []\n",
        "\n",
        "T = 500*50   # May need to play with this number\n",
        "def linear_decay(epsilon_min, epsilon_max):\n",
        "  def decay(t):\n",
        "    return max([epsilon_min + (epsilon_max - epsilon_min) * (1 - t/T), 0])\n",
        "  return decay\n",
        "\n",
        "linear_decay_fun = linear_decay(0, 1)\n",
        "result = dqn_main(epsilon_decay=linear_decay_fun, print_epsilon=False)\n",
        "results_linear_decay.append(result)\n",
        "\n",
        "\n",
        "#Calculate averages with window size 20\n",
        "window_size = 20\n",
        "moving_avg = np.convolve(results_linear_decay[0], np.ones(window_size)/window_size, mode='valid')\n",
        "\n",
        "\n",
        "plt.plot(results_linear_decay[0])\n",
        "plt.plot(range(window_size - 1, len(results_linear_decay[0])), moving_avg, label=f\"Moving Average (window={window_size})\", color=\"red\", linewidth=2)\n",
        "plt.title(rf\"Epsilon Decay With $\\epsilon=\\text{{max}}\\{{0,1-\\frac{{t}}{{{T}}}\\}}$\")\n",
        "plt.xlabel(\"Episode\")\n",
        "plt.ylabel(\"Cumulative Reward\")\n",
        "plt.legend()\n",
        "plt.show()\n",
        "print(max(results_linear_decay[0]))"
      ],
      "metadata": {
        "id": "3yz9-9ix82dp"
      },
      "execution_count": null,
      "outputs": []
    },
    {
      "cell_type": "code",
      "source": [
        "results_inverse_decay = []\n",
        "\n",
        "k = 0.0003\n",
        "def inverse_decay(k):\n",
        "  def decay(t):\n",
        "    return 1 / (1 + k*t)\n",
        "  return decay\n",
        "\n",
        "inverse_decay_fun = inverse_decay(k)\n",
        "result = dqn_main(epsilon_decay=inverse_decay_fun, print_epsilon=False)\n",
        "results_inverse_decay.append(result)\n",
        "\n",
        "\n",
        "#Calculate averages with window size 20\n",
        "window_size = 20\n",
        "moving_avg = np.convolve(results_inverse_decay[0], np.ones(window_size)/window_size, mode='valid')\n",
        "\n",
        "\n",
        "plt.plot(results_inverse_decay[0])\n",
        "plt.plot(range(window_size - 1, len(results_inverse_decay[0])), moving_avg, label=f\"Moving Average (window={window_size})\", color=\"red\", linewidth=2)\n",
        "plt.title(rf\"Epsilon Decay With $\\epsilon=\\frac{{1}}{{1+{k}t}}$\")\n",
        "plt.xlabel(\"Episode\")\n",
        "plt.ylabel(\"Cumulative Reward\")\n",
        "plt.legend()\n",
        "plt.show()\n",
        "print(max(results_inverse_decay[0]))"
      ],
      "metadata": {
        "id": "bKubvcvYJBgy"
      },
      "execution_count": null,
      "outputs": []
    },
    {
      "cell_type": "code",
      "source": [
        "results_log_decay = []\n",
        "\n",
        "k = 0.10\n",
        "def log_decay(k):\n",
        "  def decay(t):\n",
        "    return max(0, 1-k*np.log(t+1))\n",
        "  return decay\n",
        "\n",
        "log_decay_fun = log_decay(k)\n",
        "result = dqn_main(epsilon_decay=log_decay_fun, print_epsilon=False)\n",
        "results_log_decay.append(result)\n",
        "\n",
        "#Calculate averages with window size 20\n",
        "window_size = 20\n",
        "moving_avg = np.convolve(results_log_decay[0], np.ones(window_size)/window_size, mode='valid')\n",
        "\n",
        "\n",
        "plt.plot(results_log_decay[0])\n",
        "plt.plot(range(window_size - 1, len(results_log_decay[0])), moving_avg, label=f\"Moving Average (window={window_size})\", color=\"red\", linewidth=2)\n",
        "plt.title(rf\"Epsilon Decay With $\\epsilon=\\text{{max}}\\{{0,1-{k}\\log(t+1)\\}}$\")\n",
        "plt.xlabel(\"Episode\")\n",
        "plt.ylabel(\"Cumulative Reward\")\n",
        "plt.legend()\n",
        "plt.show()\n",
        "print(max(results_log_decay[0]))"
      ],
      "metadata": {
        "id": "h_DhoB_ONFji"
      },
      "execution_count": null,
      "outputs": []
    },
    {
      "cell_type": "code",
      "source": [
        "results_sin_decay = []\n",
        "\n",
        "beta = 0.9999\n",
        "k = 0.5\n",
        "def sin_decay(beta, k):\n",
        "  def decay(t): return (beta**t)*np.abs(np.sin(k*t))\n",
        "  return decay\n",
        "\n",
        "sin_decay_fun = sin_decay(beta, k)\n",
        "result = dqn_main(epsilon_decay=sin_decay_fun, print_epsilon=False)\n",
        "results_sin_decay.append(result)\n",
        "\n",
        "#Calculate averages with window size 20\n",
        "window_size = 20\n",
        "moving_avg = np.convolve(results_sin_decay[0], np.ones(window_size)/window_size, mode='valid')\n",
        "\n",
        "\n",
        "plt.plot(results_sin_decay[0], color=\"blue\")\n",
        "plt.plot(range(window_size - 1, len(results_sin_decay[0])), moving_avg, label=f\"Moving Average (window={window_size})\", color=\"red\", linewidth=2)\n",
        "plt.title(rf\"Epsilon Decay With $\\epsilon={{{beta}}}^t|\\sin({k}t)|$\")\n",
        "plt.xlabel(\"Episode\")\n",
        "plt.ylabel(\"Cumulative Reward\")\n",
        "plt.legend()\n",
        "plt.show()\n",
        "print(max(results_sin_decay[0]))"
      ],
      "metadata": {
        "id": "0s4kA9fsPZrh"
      },
      "execution_count": null,
      "outputs": []
    },
    {
      "cell_type": "code",
      "source": [
        "results_sin_decay = []\n",
        "\n",
        "EPS_START = 0.9999\n",
        "EPS_END = 0.0001\n",
        "T = 20000\n",
        "\n",
        "def sin_decay(EPS_START, EPS_END, T):\n",
        "  def decay(t): return EPS_END + (EPS_START - EPS_END) * (1 + np.sin(2*np.pi* t / T)) / 2\n",
        "  return decay\n",
        "\n",
        "sin_decay_fun = sin_decay(EPS_START, EPS_END, T)\n",
        "result = dqn_main(epsilon_decay=sin_decay_fun, print_epsilon=False)\n",
        "results_sin_decay.append(result)\n",
        "\n",
        "\n",
        "window_size = 20\n",
        "moving_avg = np.convolve(results_sin_decay[0], np.ones(window_size)/window_size, mode='valid')\n",
        "\n",
        "# Plot the data and moving average\n",
        "plt.figure(figsize=(10, 6))\n",
        "plt.plot(results_sin_decay[0], color=\"blue\", alpha=0.7)\n",
        "plt.plot(range(window_size - 1, len(results_sin_decay[0])), moving_avg, label=f\"Moving Average (window={window_size})\", color=\"red\", linewidth=2)\n",
        "plt.title(rf\"Epsilon Decay With $\\epsilon={EPS_END} + {EPS_START - EPS_END}(1 + \\sin(2pi*t/{T})/2)$\")\n",
        "plt.xlabel(\"Episodes\")\n",
        "plt.ylabel(\"Cumulative Reward\")\n",
        "plt.legend()\n",
        "plt.grid(True)\n",
        "\n",
        "# Customize the pl\n",
        "plt.show()"
      ],
      "metadata": {
        "id": "UtFqjgW9rcvz"
      },
      "execution_count": null,
      "outputs": []
    },
    {
      "cell_type": "code",
      "source": [
        "results_adapt_decay = []\n",
        "\n",
        "EPS_START = 0.9999\n",
        "EPS_END = 0.0001\n",
        "TARGET_AVG = 65\n",
        "T = 0.00005\n",
        "epsilon = EPS_START\n",
        "\n",
        "\n",
        "def adapt_decay(EPS_START, EPS_END, TARGET_AVG, results_adapt_decay, T):\n",
        "  def decay(t):\n",
        "    global epsilon\n",
        "    end = len(results_adapt_decay)\n",
        "    if end <= 20:\n",
        "      running_reward = np.mean(results_adapt_decay)\n",
        "    else:\n",
        "      running_reward = np.mean(results_adapt_decay[end-21, end-1])\n",
        "    if running_reward < TARGET_AVG:\n",
        "      epsilon = min(epsilon + T, EPS_START)\n",
        "    else:\n",
        "      epsilon = max(epsilon - T, EPS_END)\n",
        "    return epsilon\n",
        "  return decay\n",
        "\n",
        "adapt_decay_fun = adapt_decay(EPS_START, EPS_END, TARGET_AVG, results_adapt_decay, T)\n",
        "result = dqn_main(epsilon_decay=adapt_decay_fun, print_epsilon=False)\n",
        "results_adapt_decay.append(result)\n",
        "\n",
        "\n",
        "window_size = 20\n",
        "moving_avg = np.convolve(results_adapt_decay[0], np.ones(window_size)/window_size, mode='valid')\n",
        "\n",
        "# Plot the data and moving average\n",
        "plt.figure(figsize=(10, 6))\n",
        "plt.plot(results_adapt_decay[0], color=\"blue\", alpha=0.7)\n",
        "plt.plot(range(window_size - 1, len(results_adapt_decay[0])), moving_avg, label=f\"Moving Average (window={window_size})\", color=\"red\", linewidth=2)\n",
        "plt.title(rf\"Epsilon Decay With Adaptive Decay\")\n",
        "plt.xlabel(\"Episodes\")\n",
        "plt.ylabel(\"Cumulative Reward\")\n",
        "plt.legend()\n",
        "plt.grid(True)\n",
        "\n",
        "# Customize the pl\n",
        "plt.show()"
      ],
      "metadata": {
        "id": "XMfPE38HJkV5"
      },
      "execution_count": null,
      "outputs": []
    },
    {
      "cell_type": "markdown",
      "source": [
        "# Prioritized Experience Replay (PER)"
      ],
      "metadata": {
        "id": "nfBucq0xmPg0"
      }
    },
    {
      "cell_type": "code",
      "source": [
        "from collections import namedtuple\n",
        "\n",
        "# Define a named tuple for the experience\n",
        "Experience = namedtuple('Experience', ['state', 'action', 'next_state', 'reward', 'done', 'priority'])\n",
        "\n",
        "class PrioritizedReplayBuffer:\n",
        "    def __init__(self, capacity, alpha):\n",
        "        self.capacity = capacity\n",
        "        self.alpha = alpha\n",
        "        self.buffer = []\n",
        "        self.priorities = np.zeros((capacity,), dtype=np.float32)\n",
        "        self.position = 0\n",
        "\n",
        "    def add(self, state, action, next_state, reward, done):\n",
        "        #give max priority to the most recently added state\n",
        "        max_priority = self.priorities.max() if self.buffer else 1.0\n",
        "        experience = Experience(state, action, next_state, reward, done, max_priority)\n",
        "        if len(self.buffer) < self.capacity:\n",
        "            self.buffer.append(experience)\n",
        "        else:\n",
        "            self.buffer[self.position] = experience #replace experience at position with new experience\n",
        "        self.priorities[self.position] = max_priority #replace priority at position with max_priority\n",
        "        self.position = (self.position + 1) % self.capacity #increment position\n",
        "\n",
        "    def sample(self, batch_size, beta):\n",
        "        if len(self.buffer) == self.capacity:\n",
        "            priorities = self.priorities\n",
        "        else:\n",
        "            priorities = self.priorities[:self.position]\n",
        "        #Turn priorities into probabilities\n",
        "        probabilities = priorities ** self.alpha\n",
        "        probabilities /= probabilities.sum()\n",
        "        #randomly sample batch of experiences based on probabilities\n",
        "        indices = np.random.choice(len(self.buffer), batch_size, p=probabilities)\n",
        "        experiences = [self.buffer[idx] for idx in indices]\n",
        "        #Weight each probability\n",
        "        weights = (len(self.buffer) * probabilities[indices]) ** (-beta)\n",
        "        weights /= weights.max()\n",
        "        weights = torch.tensor(weights, dtype=torch.float32).to(device)\n",
        "\n",
        "        states, actions, next_states, rewards, dones = zip(*[(e.state, e.action, e.next_state, e.reward, e.done) for e in experiences])\n",
        "        return (\n",
        "            (torch.tensor(states, dtype=torch.float32).to(device),\n",
        "            torch.tensor(actions, dtype=torch.int64).to(device),\n",
        "            torch.tensor(next_states, dtype=torch.float32).to(device),\n",
        "            torch.tensor(rewards, dtype=torch.float32).to(device),\n",
        "            torch.tensor(dones, dtype=torch.float32).to(device)),\n",
        "            weights,\n",
        "            indices\n",
        "        )\n",
        "\n",
        "    def update_priorities(self, indices, priorities):\n",
        "        for idx, priority in zip(indices, priorities):\n",
        "            self.priorities[idx] = priority"
      ],
      "metadata": {
        "id": "UdGzikUEmZug"
      },
      "execution_count": null,
      "outputs": []
    },
    {
      "cell_type": "code",
      "source": [
        "def per_learn_dqn(batch, weights, indices, replay_buffer, optim, q_network, target_network, gamma, global_step, target_update):\n",
        "\n",
        "  state, action, reward, next_state, done = batch\n",
        "\n",
        "  q_values = q_network(state)  # Get the q values for the current state\n",
        "  q_value = torch.gather(q_values, 1, action.unsqueeze(1)).squeeze(1)  # Get the q_value for the action\n",
        "\n",
        "  next_q_values = target_network(next_state).detach()   # Get the q values for the next state\n",
        "  next_q_value = torch.max(next_q_values, 1)[0]  # Get the largest q value of next state\n",
        "\n",
        "  expected_q_value = reward + gamma*next_q_value*(1 - done)   # The target Q-value (via Bellman)\n",
        "  td_error = torch.abs(expected_q_value - q_value)\n",
        "  loss = torch.mean(torch.pow(td_error*weights, 2))   # Calculate the weighted loss\n",
        "\n",
        "  # Gradient descent step\n",
        "  optim.zero_grad()\n",
        "  loss.backward()\n",
        "  optim.step()\n",
        "\n",
        "  # Update priorities in the replay buffer\n",
        "  priorities = td_error.abs().detach().cpu().numpy() + 1e-5\n",
        "  replay_buffer.update_priorities(indices, priorities)\n",
        "\n",
        "  # Update target network every target_update global steps\n",
        "  if global_step % target_update == 0:\n",
        "      target_network.load_state_dict(q_network.state_dict())"
      ],
      "metadata": {
        "id": "fxGA0qUXmikG"
      },
      "execution_count": null,
      "outputs": []
    },
    {
      "cell_type": "code",
      "source": [
        "def per_dqn_main(lr=1e-3, epochs=500, start_training=1000, gamma=0.99,\n",
        "             batch_size=32, epsilon=1, epsilon_decay=lambda t, T: 0.9999**t,\n",
        "             target_update=1000, learn_frequency=2, print_epsilon=False,\n",
        "             num_steps=500):\n",
        "\n",
        "  # Init environment\n",
        "  state_size = 4\n",
        "  action_size = 2\n",
        "  env = gym.make('CartPole-v1', render_mode=\"rgb_array\")\n",
        "\n",
        "  # Init networks\n",
        "  q_network = QNetwork(state_size, action_size).to(device)\n",
        "  target_network = QNetwork(state_size, action_size).to(device)\n",
        "  target_network.load_state_dict(q_network.state_dict())\n",
        "\n",
        "  # Init optimizer\n",
        "  optim = torch.optim.Adam(q_network.parameters(), lr=lr)\n",
        "  # Init replay buffer\n",
        "  replay_buffer = PrioritizedReplayBuffer(capacity=100000, alpha=0.6)\n",
        "\n",
        "  # Begin main loop\n",
        "  results_dqn = []\n",
        "  global_step = 0\n",
        "  loop = tqdm(total=epochs, position=0, leave=False)\n",
        "  t = 0\n",
        "  for epoch in range(epochs):\n",
        "    last_epoch = (epoch+1 == epochs)\n",
        "    # Record the last epoch, not the previous epochs\n",
        "    if last_epoch:\n",
        "      env = wrap_env(env)\n",
        "\n",
        "    # Reset environment\n",
        "    state, _ = env.reset()\n",
        "    done = False\n",
        "    cum_reward = 0  # Track cumulative reward per episode\n",
        "\n",
        "    # Begin episode\n",
        "    while not done and cum_reward < num_steps:  # End after 500 steps\n",
        "      # Select e-greedy action\n",
        "      epsilon = epsilon_decay(t)\n",
        "      if print_epsilon: print(epsilon)\n",
        "      t += 1\n",
        "      action = get_action_dqn(q_network, state, epsilon)\n",
        "\n",
        "      # Take step\n",
        "      next_state, reward, terminated, truncated, _ = env.step(action)\n",
        "      done = terminated or truncated\n",
        "      # env.render()\n",
        "\n",
        "      # Store step in replay buffer\n",
        "      replay_buffer.add(state, action, reward, next_state, done)\n",
        "\n",
        "      cum_reward += reward\n",
        "      global_step += 1  # Increment total steps\n",
        "      state = next_state  # Set current state\n",
        "\n",
        "      # If time to train\n",
        "      if global_step > start_training and global_step % learn_frequency == 0:\n",
        "\n",
        "        # Sample batch\n",
        "        beta = 0.4  # Initial beta value\n",
        "        beta_increment = 1e-4  # Increment per step\n",
        "        batch, weights, indices = replay_buffer.sample(batch_size, beta)\n",
        "        #train\n",
        "        per_learn_dqn(batch, weights, indices, replay_buffer, optim, q_network, target_network, gamma, global_step, target_update)\n",
        "\n",
        "        beta = min(1.0, beta + beta_increment)  # Gradually increase beta\n",
        "\n",
        "    env.close()\n",
        "    # Print results at end of episode\n",
        "    results_dqn.append(cum_reward)\n",
        "    loop.update(1)\n",
        "    loop.set_description('Episodes: {} Reward: {}'.format(epoch, cum_reward))\n",
        "\n",
        "  return results_dqn"
      ],
      "metadata": {
        "id": "uOzE7au7nvQI"
      },
      "execution_count": null,
      "outputs": []
    },
    {
      "cell_type": "markdown",
      "source": [
        "## Run Prioritized Experience Replay Model with Various Epsilon Greedy Policies"
      ],
      "metadata": {
        "id": "_3GxCR_coa6O"
      }
    },
    {
      "cell_type": "code",
      "source": [
        "#Exponential Epsilon Decays\n",
        "\n",
        "results_dqn = []\n",
        "decay_factors = [1, 0.99999, 0.9999, 0.999, 0.99, 0.9, 0.5, 0.1, 0]\n",
        "\n",
        "for decay in decay_factors:\n",
        "  def exponential_decay(t): return decay**t\n",
        "  result = per_dqn_main(epsilon_decay=exponential_decay)\n",
        "  results_dqn.append(result)\n",
        "\n",
        "max_rewards = []\n",
        "for i in range(len(results_dqn)):\n",
        "  if i in [4, 5, 6, 7, 8]: continue\n",
        "  plt.plot(results_dqn[i], label=fr\"$\\beta={decay_factors[i]}$, reward={max(results_dqn[i])}\")\n",
        "  max_rewards.append(max(results_dqn[i]))\n",
        "\n",
        "plt.title(r\"Epsilon Decay With $\\epsilon=\\beta^t$\")\n",
        "plt.xlabel(\"Episode\")\n",
        "plt.ylabel(\"Cumulative Reward\")\n",
        "plt.legend()\n",
        "plt.show()\n",
        "\n",
        "print(max_rewards)"
      ],
      "metadata": {
        "colab": {
          "base_uri": "https://localhost:8080/",
          "height": 547
        },
        "id": "uT7S4lBfoq1x",
        "outputId": "9c80707e-29f3-413e-e6ab-5e5b78373dbf"
      },
      "execution_count": null,
      "outputs": [
        {
          "output_type": "stream",
          "name": "stderr",
          "text": [
            "Episodes: 43 Reward: 17.0:   9%|▉         | 44/500 [00:00<00:01, 237.47it/s]<ipython-input-17-9b912f678f34>:43: UserWarning: Creating a tensor from a list of numpy.ndarrays is extremely slow. Please consider converting the list to a single numpy.ndarray with numpy.array() before converting to a tensor. (Triggered internally at ../torch/csrc/utils/tensor_new.cpp:278.)\n",
            "  (torch.tensor(states, dtype=torch.float32).to(device),\n"
          ]
        },
        {
          "output_type": "display_data",
          "data": {
            "text/plain": [
              "<Figure size 640x480 with 1 Axes>"
            ],
            "image/png": "[encoded data removed]"
          },
          "metadata": {}
        },
        {
          "output_type": "stream",
          "name": "stdout",
          "text": [
            "[77.0, 89.0, 500.0, 48.0]\n"
          ]
        }
      ]
    },
    {
      "cell_type": "code",
      "source": [
        "results_linear_decay = []\n",
        "\n",
        "T = 500*50   # May need to play with this number\n",
        "def linear_decay(epsilon_min, epsilon_max):\n",
        "  def decay(t):\n",
        "    return max([epsilon_min + (epsilon_max - epsilon_min) * (1 - t/T), 0])\n",
        "  return decay\n",
        "\n",
        "linear_decay_fun = linear_decay(0, 1)\n",
        "result = per_dqn_main(epsilon_decay=linear_decay_fun, print_epsilon=False)\n",
        "results_linear_decay.append(result)\n",
        "\n",
        "\n",
        "#Calculate averages with window size 20\n",
        "window_size = 20\n",
        "moving_avg = np.convolve(results_linear_decay[0], np.ones(window_size)/window_size, mode='valid')\n",
        "\n",
        "\n",
        "plt.plot(results_linear_decay[0])\n",
        "plt.plot(range(window_size - 1, len(results_linear_decay[0])), moving_avg, label=f\"Moving Average (window={window_size})\", color=\"red\", linewidth=2)\n",
        "plt.title(rf\"Epsilon Decay With $\\epsilon=\\text{{max}}\\{{0,1-\\frac{{t}}{{{T}}}\\}}$\")\n",
        "plt.xlabel(\"Episode\")\n",
        "plt.ylabel(\"Cumulative Reward\")\n",
        "plt.legend()\n",
        "plt.show()\n",
        "print(max(results_linear_decay[0]))"
      ],
      "metadata": {
        "id": "8j0RPK6HpL_l"
      },
      "execution_count": null,
      "outputs": []
    },
    {
      "cell_type": "code",
      "source": [
        "results_inverse_decay = []\n",
        "\n",
        "k = 0.0003\n",
        "def inverse_decay(k):\n",
        "  def decay(t):\n",
        "    return 1 / (1 + k*t)\n",
        "  return decay\n",
        "\n",
        "inverse_decay_fun = inverse_decay(k)\n",
        "result = per_dqn_main(epsilon_decay=inverse_decay_fun, print_epsilon=False)\n",
        "results_inverse_decay.append(result)\n",
        "\n",
        "\n",
        "#Calculate averages with window size 20\n",
        "window_size = 20\n",
        "moving_avg = np.convolve(results_inverse_decay[0], np.ones(window_size)/window_size, mode='valid')\n",
        "\n",
        "\n",
        "plt.plot(results_inverse_decay[0])\n",
        "plt.plot(range(window_size - 1, len(results_inverse_decay[0])), moving_avg, label=f\"Moving Average (window={window_size})\", color=\"red\", linewidth=2)\n",
        "plt.title(rf\"Epsilon Decay With $\\epsilon=\\frac{{1}}{{1+{k}t}}$\")\n",
        "plt.xlabel(\"Episode\")\n",
        "plt.ylabel(\"Cumulative Reward\")\n",
        "plt.legend()\n",
        "plt.show()\n",
        "print(max(results_inverse_decay[0]))"
      ],
      "metadata": {
        "id": "f7xJhvXFpWnw"
      },
      "execution_count": null,
      "outputs": []
    },
    {
      "cell_type": "code",
      "source": [
        "results_log_decay = []\n",
        "\n",
        "k = 0.10\n",
        "def log_decay(k):\n",
        "  def decay(t):\n",
        "    return max(0, 1-k*np.log(t+1))\n",
        "  return decay\n",
        "\n",
        "log_decay_fun = log_decay(k)\n",
        "result = per_dqn_main(epsilon_decay=log_decay_fun, print_epsilon=False)\n",
        "results_log_decay.append(result)\n",
        "\n",
        "#Calculate averages with window size 20\n",
        "window_size = 20\n",
        "moving_avg = np.convolve(results_log_decay[0], np.ones(window_size)/window_size, mode='valid')\n",
        "\n",
        "\n",
        "plt.plot(results_log_decay[0])\n",
        "plt.plot(range(window_size - 1, len(results_log_decay[0])), moving_avg, label=f\"Moving Average (window={window_size})\", color=\"red\", linewidth=2)\n",
        "plt.title(rf\"Epsilon Decay With $\\epsilon=\\text{{max}}\\{{0,1-{k}\\log(t+1)\\}}$\")\n",
        "plt.xlabel(\"Episode\")\n",
        "plt.ylabel(\"Cumulative Reward\")\n",
        "plt.legend()\n",
        "plt.show()\n",
        "print(max(results_log_decay[0]))"
      ],
      "metadata": {
        "id": "8vnl_1evpbCU"
      },
      "execution_count": null,
      "outputs": []
    },
    {
      "cell_type": "code",
      "source": [
        "results_sin_decay = []\n",
        "\n",
        "beta = 0.9999\n",
        "k = 0.5\n",
        "def sin_decay(beta, k):\n",
        "  def decay(t): return (beta**t)*np.abs(np.sin(k*t))\n",
        "  return decay\n",
        "\n",
        "sin_decay_fun = sin_decay(beta, k)\n",
        "result = per_dqn_main(epsilon_decay=sin_decay_fun, print_epsilon=False)\n",
        "results_sin_decay.append(result)\n",
        "\n",
        "#Calculate averages with window size 20\n",
        "window_size = 20\n",
        "moving_avg = np.convolve(results_sin_decay[0], np.ones(window_size)/window_size, mode='valid')\n",
        "\n",
        "\n",
        "plt.plot(results_sin_decay[0], color=\"blue\")\n",
        "plt.plot(range(window_size - 1, len(results_sin_decay[0])), moving_avg, label=f\"Moving Average (window={window_size})\", color=\"red\", linewidth=2)\n",
        "plt.title(rf\"Epsilon Decay With $\\epsilon={{{beta}}}^t|\\sin({k}t)|$\")\n",
        "plt.xlabel(\"Episode\")\n",
        "plt.ylabel(\"Cumulative Reward\")\n",
        "plt.legend()\n",
        "plt.show()\n",
        "print(max(results_sin_decay[0]))"
      ],
      "metadata": {
        "id": "ksoDaz5apgHU"
      },
      "execution_count": null,
      "outputs": []
    },
    {
      "cell_type": "markdown",
      "source": [
        "Q-learning"
      ],
      "metadata": {
        "id": "qyQCIUcN06BM"
      }
    },
    {
      "cell_type": "code",
      "source": [
        "def epsilon_decay(episode, N, epsilon_start=1.0, epsilon_end=0.9512270462715808):\n",
        "    \"\"\" Decay epsilon value over time according to an exponential decay.\n",
        "    Parameters:\n",
        "        episode (int): current episode number (starting from 1)\n",
        "        N (int): total number of episodes\n",
        "        epsilon_start (float): starting epsilon value\n",
        "        epsilon_end (float): ending epsilon value\n",
        "    Returns:\n",
        "        epsilon (float): decayed epsilon value\n",
        "    \"\"\"\n",
        "\n",
        "\n",
        "    return epsilon_start * (epsilon_end/epsilon_start)**(episode/N)"
      ],
      "metadata": {
        "id": "y9KJbca71LCQ"
      },
      "execution_count": null,
      "outputs": []
    },
    {
      "cell_type": "code",
      "source": [
        "def get_discrete_state(state):\n",
        "    np_array_win_size = np.array([0.25, 0.25, 0.01, 0.1])\n",
        "    discrete_state = state/np_array_win_size + np.array([15,10,1,10])\n",
        "    return tuple(discrete_state.astype(int))"
      ],
      "metadata": {
        "id": "DXofx9wr1oKD"
      },
      "execution_count": null,
      "outputs": []
    },
    {
      "cell_type": "code",
      "source": [
        "def qlearning(env:str, alpha:float=1e-3, gamma:float=0.99, epsilon:float=0.35, N:int=70_000, decay:bool=False) -> Tuple[NDArray, Dict]:\n",
        "    \"\"\" Use the Q-learning algorithm to find qvalues.\n",
        "    Parameters:\n",
        "        - env (str): environment name (Gymnasium environment)\n",
        "        - alpha (float): learning rate\n",
        "        - gamma (float): discount factor\n",
        "        - epsilon (float): epsilon value for epsilon-greedy algo\n",
        "        - N (int): number of episodes to train for\n",
        "        - decay (bool): whether to decay epsilon according to epsilon_decay\n",
        "\n",
        "    Returns:\n",
        "        - q_table (ndarray nxm): the Q(s,a) approximation values\n",
        "    \"\"\"\n",
        "\n",
        "    Observation = [50, 50, 90, 90]\n",
        "    env = gym.make(env, render_mode=\"rgb_array\")\n",
        "    q_table=  np.zeros(shape=(Observation + [env.action_space.n]))\n",
        "    cum_rewards = {} # Dict of cumulative reward per episode\n",
        "\n",
        "    # Train for N episodes\n",
        "    for i in range(1, N+1):\n",
        "\n",
        "        # Get epsilon value\n",
        "        if not decay:\n",
        "            epsilon = epsilon\n",
        "        else:\n",
        "            epsilon = epsilon_decay(i, N)\n",
        "\n",
        "        # Reset env and get initial state; Initialize penalties, reward, done\n",
        "        thing, _ = env.reset()\n",
        "        curr_state = get_discrete_state(thing)\n",
        "        episode_reward = 0\n",
        "        step_reward = 0\n",
        "        done = False\n",
        "\n",
        "\n",
        "        # Keep going until the terminal state is reached\n",
        "        while not done:\n",
        "\n",
        "        # Employ epsilon-greedy algo\n",
        "            if random.uniform(0,1) < epsilon:                  # Explore\n",
        "                curr_action = env.action_space.sample()\n",
        "            else:                                              # Exploit\n",
        "                curr_action = (q_table[curr_state]).argmax()\n",
        "\n",
        "            # Take action and get new state and reward\n",
        "            next_state, step_reward, done, truncated, info = env.step(curr_action)\n",
        "            next_state = get_discrete_state(next_state)\n",
        "\n",
        "            # Calculate new qvalue\n",
        "            old_value = q_table[curr_state + (curr_action,)]\n",
        "            next_max = (q_table[next_state]).max()\n",
        "            new_value = (1-alpha)*old_value + alpha*(step_reward + gamma*next_max)\n",
        "            q_table[curr_state + (curr_action,)] = new_value\n",
        "\n",
        "            # Get next observation\n",
        "            curr_state = next_state\n",
        "\n",
        "            #Update episode reward\n",
        "            episode_reward += step_reward\n",
        "\n",
        "        cum_rewards[i] = episode_reward\n",
        "        if i % 10 == 0:\n",
        "            display.clear_output(wait=True)\n",
        "            print(\"Training model...\")\n",
        "            print(f\"Episode: {i}\")\n",
        "\n",
        "    env.close()\n",
        "    print(\"Training finished.\")\n",
        "\n",
        "    return q_table, cum_rewards"
      ],
      "metadata": {
        "id": "fEhYtbut1GC_"
      },
      "execution_count": null,
      "outputs": []
    },
    {
      "cell_type": "code",
      "source": [
        "def plotter(dict:Dict, save:bool=False, img_name:str='./qlearn_rewards.pdf') -> None:\n",
        "    ax = plt.subplot(111)\n",
        "    rewards = np.array(list(dict.values()))\n",
        "    episodes = np.array(list(dict.keys()))\n",
        "    avgs = np.cumsum(rewards)/episodes\n",
        "\n",
        "    ax.plot(episodes, rewards, color='blue', label='Total Reward of Episode')\n",
        "    ax.plot(episodes, avgs, color='red', label='Average Cumulative Reward of N Episodes')\n",
        "    ax.set_xlabel(\"Episode\")\n",
        "    ax.set_ylabel(\"Reward\")\n",
        "    ax.set_title(\"Reward as a function of Episode\")\n",
        "    ax.legend()\n",
        "\n",
        "    if save:\n",
        "        plt.savefig(img_name, format='pdf')\n",
        "    plt.show()\n",
        "\n",
        "    return avgs"
      ],
      "metadata": {
        "id": "Fw5GikO71qnK"
      },
      "execution_count": null,
      "outputs": []
    },
    {
      "cell_type": "code",
      "source": [
        "Q, rewards = qlearning(env='CartPole-v1', N=500, epsilon=0.45, decay=True)"
      ],
      "metadata": {
        "id": "WvIRfsYA1shf"
      },
      "execution_count": null,
      "outputs": []
    },
    {
      "cell_type": "code",
      "source": [
        "avgs = plotter(rewards, save=False, img_name='./qlearn_rewards.pdf')"
      ],
      "metadata": {
        "id": "utxKD73g1vH3"
      },
      "execution_count": null,
      "outputs": []
    },
    {
      "cell_type": "markdown",
      "source": [
        "DQN witn no Experience Replay"
      ],
      "metadata": {
        "id": "N1Ysn8vL2rMb"
      }
    },
    {
      "cell_type": "code",
      "source": [
        "def learn_dqn_single(state, action, next_state, reward, done, optim, q_network, target_network, gamma, global_step, target_update):\n",
        "    \"\"\"Update Q-Network using a single transition.\"\"\"\n",
        "    state = torch.from_numpy(state).float().unsqueeze(0).to(device)\n",
        "    next_state = torch.from_numpy(next_state).float().unsqueeze(0).to(device)\n",
        "    action = torch.tensor([[action]]).to(device)\n",
        "    reward = torch.tensor([reward]).to(device)\n",
        "    done = torch.tensor([done]).float().to(device)\n",
        "\n",
        "    # Compute Q(s, a)\n",
        "    q_values = q_network(state)\n",
        "    q_value = q_values.gather(1, action).squeeze(1)\n",
        "\n",
        "    # Compute max_a' Q'(s', a') for the target\n",
        "    next_q_values = target_network(next_state).detach()\n",
        "    next_q_value = torch.max(next_q_values, 1)[0]\n",
        "\n",
        "    # Bellman equation target\n",
        "    expected_q_value = reward + gamma * next_q_value * (1 - done)\n",
        "\n",
        "    # Loss and backpropagation\n",
        "    loss = torch.mean((q_value - expected_q_value) ** 2)\n",
        "    optim.zero_grad()\n",
        "    loss.backward()\n",
        "    optim.step()\n",
        "\n",
        "    # Update target network\n",
        "    if global_step % target_update == 0:\n",
        "        target_network.load_state_dict(q_network.state_dict())"
      ],
      "metadata": {
        "id": "2GlUZgil2tT1"
      },
      "execution_count": null,
      "outputs": []
    },
    {
      "cell_type": "code",
      "source": [
        "def dqn_main_no_replay(lr=1e-3, epochs=500, gamma=0.99, epsilon=1, epsilon_decay=lambda t: epsilon_decay(t+1),\n",
        "                       target_update=1000, num_steps=500):\n",
        "    \"\"\"DQN without experience replay.\"\"\"\n",
        "    # Init environment\n",
        "    state_size = 4\n",
        "    action_size = 2\n",
        "    env = gym.make('CartPole-v1', render_mode=\"rgb_array\")\n",
        "\n",
        "    # Init networks\n",
        "    q_network = QNetwork(state_size, action_size).to(device)\n",
        "    target_network = QNetwork(state_size, action_size).to(device)\n",
        "    target_network.load_state_dict(q_network.state_dict())\n",
        "\n",
        "    # Init optimizer\n",
        "    optim = torch.optim.Adam(q_network.parameters(), lr=lr)\n",
        "\n",
        "    # Begin main loop\n",
        "    results_dqn = []\n",
        "    global_step = 0\n",
        "    loop = tqdm(total=epochs, position=0, leave=False)\n",
        "    t = 0\n",
        "    for epoch in range(epochs):\n",
        "        last_epoch = (epoch + 1 == epochs)\n",
        "        if last_epoch:\n",
        "            env = wrap_env(env)\n",
        "\n",
        "        state, _ = env.reset()\n",
        "        done = False\n",
        "        cum_reward = 0\n",
        "\n",
        "        while not done and cum_reward < num_steps:\n",
        "            # Select e-greedy action\n",
        "            epsilon = epsilon_decay(t)\n",
        "            t += 1\n",
        "            action = get_action_dqn(q_network, state, epsilon)\n",
        "\n",
        "            # Take step\n",
        "            next_state, reward, terminated, truncated, _ = env.step(action)\n",
        "            done = terminated or truncated\n",
        "\n",
        "            # Train using the current transition\n",
        "            learn_dqn_single(state, action, next_state, reward, done, optim, q_network, target_network, gamma, global_step, target_update)\n",
        "\n",
        "            cum_reward += reward\n",
        "            global_step += 1\n",
        "            state = next_state\n",
        "\n",
        "        env.close()\n",
        "        results_dqn.append(cum_reward)\n",
        "        loop.update(1)\n",
        "        loop.set_description('Episodes: {} Reward: {}'.format(epoch, cum_reward))\n",
        "\n",
        "    return results_dqn"
      ],
      "metadata": {
        "id": "VNAHA4uo239F"
      },
      "execution_count": null,
      "outputs": []
    },
    {
      "cell_type": "code",
      "source": [
        "results_dqn_no_replay = dqn_main_no_replay()\n",
        "show_video()"
      ],
      "metadata": {
        "id": "qmUZg1l924v3"
      },
      "execution_count": null,
      "outputs": []
    },
    {
      "cell_type": "code",
      "source": [
        "SAVE = True\n",
        "ax = plt.subplot(111)\n",
        "avgs = np.cumsum(np.array(results_dqn_no_replay))/np.arange(1,501)\n",
        "ax.plot(list(range(1,501)), results_dqn_no_replay, color='blue', label='Cumulative Reward per Episode')\n",
        "ax.plot(list(range(1,501)), avgs, color='red', label='Cumulative Episodic Reward Average')\n",
        "ax.set_ylabel(\"Reward\")\n",
        "ax.set_xlabel(\"Episode\")\n",
        "ax.set_title(\"Reward per Episode\")\n",
        "ax.legend()\n",
        "\n",
        "if SAVE:\n",
        "    plt.savefig(\"./dqn_no_ep_exp_epsilon.pdf\", format='pdf')\n",
        "\n",
        "plt.show()"
      ],
      "metadata": {
        "id": "XMnCLxuq26Mk"
      },
      "execution_count": null,
      "outputs": []
    }
  ],
  "metadata": {
    "colab": {
      "provenance": []
    },
    "kernelspec": {
      "display_name": "Python 3",
      "name": "python3"
    },
    "language_info": {
      "codemirror_mode": {
        "name": "ipython",
        "version": 3
      },
      "file_extension": ".py",
      "mimetype": "text/x-python",
      "name": "python",
      "nbconvert_exporter": "python",
      "pygments_lexer": "ipython3",
      "version": "3.10.14"
    }
  },
  "nbformat": 4,
  "nbformat_minor": 0
}